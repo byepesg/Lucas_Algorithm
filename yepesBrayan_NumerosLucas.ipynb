{
 "cells": [
  {
   "cell_type": "markdown",
   "metadata": {},
   "source": [
    "# Punto 6. Taller ecuaciones en diferencias\n",
    "# Los números de Lucas están relacionado con los números de Fibonacci, y están definidos por la siguiente secuencia 𝐿𝑛+2=𝐿𝑛+1+𝐿𝑛, 𝐿0=2, 𝐿1=1. Escriba un programa que imprima la siguiente información. El 18-th número de Lucas, el número de Lucas más cercano a 1000, y el primer número de Lucas más grande que 100."
   ]
  },
  {
   "cell_type": "code",
   "execution_count": 1,
   "metadata": {},
   "outputs": [
    {
     "name": "stdout",
     "output_type": "stream",
     "text": [
      "Los 18 primeros numeros de Lucas son:\n",
      "[3, 4, 7, 11, 18, 29, 47, 76, 123, 199, 322, 521, 843, 1364, 2207, 3571]\n",
      "_________________________________________________\n",
      "Parte 1: Numero 18 de Lucas\n",
      "_________________________________________________\n",
      "El 18 es:\n",
      "3571\n",
      "_________________________________________________\n",
      "Parte 2: Número de Lucas mas cercano a mil\n",
      "_________________________________________________\n",
      "El mas cercano a mil: \n",
      "843\n",
      "_________________________________________________\n",
      "Parte 3: El primer número de Lucas mayor que 100\n",
      "_________________________________________________\n",
      "El primero mayor que 100 es\n",
      "123\n"
     ]
    }
   ],
   "source": [
    "\n",
    "l0 = 2\n",
    "l1 = 1\n",
    "iterador = 0\n",
    "i = 0\n",
    "lista1 = []\n",
    "for i in range (2,18):\n",
    "      iterador = l0 + l1\n",
    "      l0 =l1\n",
    "      l1 = iterador\n",
    "      lista1.append(iterador)\n",
    "      \n",
    "print(\"Los 18 primeros numeros de Lucas son:\")\n",
    "print(lista1)\n",
    "print(\"_________________________________________________\")\n",
    "print(\"Parte 1: Numero 18 de Lucas\")\n",
    "print(\"_________________________________________________\")\n",
    "print(\"El 18 es:\")    \n",
    "print(iterador)\n",
    "\n",
    "\n",
    "######################################\n",
    "######Restableciendo valores #########\n",
    "######################################\n",
    "print(\"_________________________________________________\")\n",
    "print(\"Parte 2: Número de Lucas mas cercano a mil\")\n",
    "print(\"_________________________________________________\")\n",
    "\n",
    "l02 = 2\n",
    "l12 = 1\n",
    "iterador2 = 0\n",
    "minimo = 0\n",
    "maximo = 0\n",
    "c = 0 \n",
    "while (maximo == 0): \n",
    "  iterador2 =  l02 + l12\n",
    "  l02 = l12 \n",
    "  l12 = iterador2\n",
    "\n",
    "  if (iterador2 < 1000): \n",
    "      minimo = iterador2\n",
    "  else:\n",
    "      maximo = iterador2\n",
    "  c = c+1\n",
    "\n",
    "varA = maximo-1000\n",
    "varB = 1000-minimo\n",
    "#print(\"VarA:\")\n",
    "#print(varA)\n",
    "#print(\"VarB\")\n",
    "#print(varB)\n",
    "\n",
    "if ((varA)<(varB)):\n",
    "  print(\"Maximo: \")\n",
    "  print(maximo)\n",
    "else:\n",
    "  print(\"El mas cercano a mil: \")\n",
    "  print(minimo)\n",
    "\n",
    "\n",
    "print(\"_________________________________________________\")\n",
    "print(\"Parte 3: El primer número de Lucas mayor que 100\")\n",
    "print(\"_________________________________________________\")\n",
    "l03 = 2\n",
    "l13 = 1\n",
    "iterador3 = 0\n",
    "\n",
    "while(iterador3<=100):\n",
    "  \n",
    "  iterador3 = l03+l13\n",
    "  l03 = l13\n",
    "  l13 = iterador3\n",
    "print(\"El primero mayor que 100 es\")  \n",
    "print(iterador3)"
   ]
  },
  {
   "cell_type": "markdown",
   "metadata": {},
   "source": []
  }
 ],
 "metadata": {
  "kernelspec": {
   "display_name": "Python 3",
   "language": "python",
   "name": "python3"
  },
  "language_info": {
   "codemirror_mode": {
    "name": "ipython",
    "version": 3
   },
   "file_extension": ".py",
   "mimetype": "text/x-python",
   "name": "python",
   "nbconvert_exporter": "python",
   "pygments_lexer": "ipython3",
   "version": "3.6.10"
  }
 },
 "nbformat": 4,
 "nbformat_minor": 2
}
